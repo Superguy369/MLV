{
  "nbformat": 4,
  "nbformat_minor": 0,
  "metadata": {
    "colab": {
      "provenance": [],
      "include_colab_link": true
    },
    "kernelspec": {
      "name": "python3",
      "display_name": "Python 3"
    },
    "language_info": {
      "name": "python"
    }
  },
  "cells": [
    {
      "cell_type": "markdown",
      "metadata": {
        "id": "view-in-github",
        "colab_type": "text"
      },
      "source": [
        "<a href=\"https://colab.research.google.com/github/Superguy369/MLV/blob/main/Copy_of_Expt_8_ML.ipynb\" target=\"_parent\"><img src=\"https://colab.research.google.com/assets/colab-badge.svg\" alt=\"Open In Colab\"/></a>"
      ]
    },
    {
      "cell_type": "markdown",
      "source": [
        "**Name:** Vaishnavi Kothari\n",
        "\n",
        "**Roll No.:** 83\n",
        "\n",
        "**Moodle ID:** 20102138\n",
        "\n",
        "**Div:** B\n",
        "\n",
        "**Sub:** ML"
      ],
      "metadata": {
        "id": "5zH8otUSN7nl"
      }
    },
    {
      "cell_type": "markdown",
      "source": [
        "#### EXPERIMENT NO. 8"
      ],
      "metadata": {
        "id": "uh32wsC2OP-O"
      }
    },
    {
      "cell_type": "code",
      "execution_count": null,
      "metadata": {
        "id": "XrqTLVOZCKKs"
      },
      "outputs": [],
      "source": [
        "import numpy as np\n",
        "import pandas as pd"
      ]
    },
    {
      "cell_type": "code",
      "source": [
        "from google.colab import drive\n",
        "drive.mount('/content/drive')"
      ],
      "metadata": {
        "colab": {
          "base_uri": "https://localhost:8080/"
        },
        "id": "PNFaCX-6DnZ6",
        "outputId": "fd1b3e66-d2fc-436d-8d77-4677ce7d0c6f"
      },
      "execution_count": null,
      "outputs": [
        {
          "output_type": "stream",
          "name": "stdout",
          "text": [
            "Mounted at /content/drive\n"
          ]
        }
      ]
    },
    {
      "cell_type": "code",
      "source": [
        "df = pd.read_csv(\"/content/drive/MyDrive/Cgpa_iq.csv\")\n",
        "print(\"The shape of data is\",df.shape)\n",
        "df.head()"
      ],
      "metadata": {
        "colab": {
          "base_uri": "https://localhost:8080/",
          "height": 223
        },
        "id": "d_plDHJLCRpZ",
        "outputId": "7bf308ed-1710-4d3a-ef87-6a2ed3dba157"
      },
      "execution_count": null,
      "outputs": [
        {
          "output_type": "stream",
          "name": "stdout",
          "text": [
            "The shape of data is (200, 2)\n"
          ]
        },
        {
          "output_type": "execute_result",
          "data": {
            "text/plain": [
              "   cgpa   iq\n",
              "0  5.13   88\n",
              "1  5.90  113\n",
              "2  8.36   93\n",
              "3  8.27   97\n",
              "4  5.45  110"
            ],
            "text/html": [
              "\n",
              "  <div id=\"df-d21137a2-0f08-4c5f-92a9-be36e7e43014\" class=\"colab-df-container\">\n",
              "    <div>\n",
              "<style scoped>\n",
              "    .dataframe tbody tr th:only-of-type {\n",
              "        vertical-align: middle;\n",
              "    }\n",
              "\n",
              "    .dataframe tbody tr th {\n",
              "        vertical-align: top;\n",
              "    }\n",
              "\n",
              "    .dataframe thead th {\n",
              "        text-align: right;\n",
              "    }\n",
              "</style>\n",
              "<table border=\"1\" class=\"dataframe\">\n",
              "  <thead>\n",
              "    <tr style=\"text-align: right;\">\n",
              "      <th></th>\n",
              "      <th>cgpa</th>\n",
              "      <th>iq</th>\n",
              "    </tr>\n",
              "  </thead>\n",
              "  <tbody>\n",
              "    <tr>\n",
              "      <th>0</th>\n",
              "      <td>5.13</td>\n",
              "      <td>88</td>\n",
              "    </tr>\n",
              "    <tr>\n",
              "      <th>1</th>\n",
              "      <td>5.90</td>\n",
              "      <td>113</td>\n",
              "    </tr>\n",
              "    <tr>\n",
              "      <th>2</th>\n",
              "      <td>8.36</td>\n",
              "      <td>93</td>\n",
              "    </tr>\n",
              "    <tr>\n",
              "      <th>3</th>\n",
              "      <td>8.27</td>\n",
              "      <td>97</td>\n",
              "    </tr>\n",
              "    <tr>\n",
              "      <th>4</th>\n",
              "      <td>5.45</td>\n",
              "      <td>110</td>\n",
              "    </tr>\n",
              "  </tbody>\n",
              "</table>\n",
              "</div>\n",
              "    <div class=\"colab-df-buttons\">\n",
              "\n",
              "  <div class=\"colab-df-container\">\n",
              "    <button class=\"colab-df-convert\" onclick=\"convertToInteractive('df-d21137a2-0f08-4c5f-92a9-be36e7e43014')\"\n",
              "            title=\"Convert this dataframe to an interactive table.\"\n",
              "            style=\"display:none;\">\n",
              "\n",
              "  <svg xmlns=\"http://www.w3.org/2000/svg\" height=\"24px\" viewBox=\"0 -960 960 960\">\n",
              "    <path d=\"M120-120v-720h720v720H120Zm60-500h600v-160H180v160Zm220 220h160v-160H400v160Zm0 220h160v-160H400v160ZM180-400h160v-160H180v160Zm440 0h160v-160H620v160ZM180-180h160v-160H180v160Zm440 0h160v-160H620v160Z\"/>\n",
              "  </svg>\n",
              "    </button>\n",
              "\n",
              "  <style>\n",
              "    .colab-df-container {\n",
              "      display:flex;\n",
              "      gap: 12px;\n",
              "    }\n",
              "\n",
              "    .colab-df-convert {\n",
              "      background-color: #E8F0FE;\n",
              "      border: none;\n",
              "      border-radius: 50%;\n",
              "      cursor: pointer;\n",
              "      display: none;\n",
              "      fill: #1967D2;\n",
              "      height: 32px;\n",
              "      padding: 0 0 0 0;\n",
              "      width: 32px;\n",
              "    }\n",
              "\n",
              "    .colab-df-convert:hover {\n",
              "      background-color: #E2EBFA;\n",
              "      box-shadow: 0px 1px 2px rgba(60, 64, 67, 0.3), 0px 1px 3px 1px rgba(60, 64, 67, 0.15);\n",
              "      fill: #174EA6;\n",
              "    }\n",
              "\n",
              "    .colab-df-buttons div {\n",
              "      margin-bottom: 4px;\n",
              "    }\n",
              "\n",
              "    [theme=dark] .colab-df-convert {\n",
              "      background-color: #3B4455;\n",
              "      fill: #D2E3FC;\n",
              "    }\n",
              "\n",
              "    [theme=dark] .colab-df-convert:hover {\n",
              "      background-color: #434B5C;\n",
              "      box-shadow: 0px 1px 3px 1px rgba(0, 0, 0, 0.15);\n",
              "      filter: drop-shadow(0px 1px 2px rgba(0, 0, 0, 0.3));\n",
              "      fill: #FFFFFF;\n",
              "    }\n",
              "  </style>\n",
              "\n",
              "    <script>\n",
              "      const buttonEl =\n",
              "        document.querySelector('#df-d21137a2-0f08-4c5f-92a9-be36e7e43014 button.colab-df-convert');\n",
              "      buttonEl.style.display =\n",
              "        google.colab.kernel.accessAllowed ? 'block' : 'none';\n",
              "\n",
              "      async function convertToInteractive(key) {\n",
              "        const element = document.querySelector('#df-d21137a2-0f08-4c5f-92a9-be36e7e43014');\n",
              "        const dataTable =\n",
              "          await google.colab.kernel.invokeFunction('convertToInteractive',\n",
              "                                                    [key], {});\n",
              "        if (!dataTable) return;\n",
              "\n",
              "        const docLinkHtml = 'Like what you see? Visit the ' +\n",
              "          '<a target=\"_blank\" href=https://colab.research.google.com/notebooks/data_table.ipynb>data table notebook</a>'\n",
              "          + ' to learn more about interactive tables.';\n",
              "        element.innerHTML = '';\n",
              "        dataTable['output_type'] = 'display_data';\n",
              "        await google.colab.output.renderOutput(dataTable, element);\n",
              "        const docLink = document.createElement('div');\n",
              "        docLink.innerHTML = docLinkHtml;\n",
              "        element.appendChild(docLink);\n",
              "      }\n",
              "    </script>\n",
              "  </div>\n",
              "\n",
              "\n",
              "<div id=\"df-ffabe31c-221d-43a8-9e50-82911abfb33e\">\n",
              "  <button class=\"colab-df-quickchart\" onclick=\"quickchart('df-ffabe31c-221d-43a8-9e50-82911abfb33e')\"\n",
              "            title=\"Suggest charts.\"\n",
              "            style=\"display:none;\">\n",
              "\n",
              "<svg xmlns=\"http://www.w3.org/2000/svg\" height=\"24px\"viewBox=\"0 0 24 24\"\n",
              "     width=\"24px\">\n",
              "    <g>\n",
              "        <path d=\"M19 3H5c-1.1 0-2 .9-2 2v14c0 1.1.9 2 2 2h14c1.1 0 2-.9 2-2V5c0-1.1-.9-2-2-2zM9 17H7v-7h2v7zm4 0h-2V7h2v10zm4 0h-2v-4h2v4z\"/>\n",
              "    </g>\n",
              "</svg>\n",
              "  </button>\n",
              "\n",
              "<style>\n",
              "  .colab-df-quickchart {\n",
              "      --bg-color: #E8F0FE;\n",
              "      --fill-color: #1967D2;\n",
              "      --hover-bg-color: #E2EBFA;\n",
              "      --hover-fill-color: #174EA6;\n",
              "      --disabled-fill-color: #AAA;\n",
              "      --disabled-bg-color: #DDD;\n",
              "  }\n",
              "\n",
              "  [theme=dark] .colab-df-quickchart {\n",
              "      --bg-color: #3B4455;\n",
              "      --fill-color: #D2E3FC;\n",
              "      --hover-bg-color: #434B5C;\n",
              "      --hover-fill-color: #FFFFFF;\n",
              "      --disabled-bg-color: #3B4455;\n",
              "      --disabled-fill-color: #666;\n",
              "  }\n",
              "\n",
              "  .colab-df-quickchart {\n",
              "    background-color: var(--bg-color);\n",
              "    border: none;\n",
              "    border-radius: 50%;\n",
              "    cursor: pointer;\n",
              "    display: none;\n",
              "    fill: var(--fill-color);\n",
              "    height: 32px;\n",
              "    padding: 0;\n",
              "    width: 32px;\n",
              "  }\n",
              "\n",
              "  .colab-df-quickchart:hover {\n",
              "    background-color: var(--hover-bg-color);\n",
              "    box-shadow: 0 1px 2px rgba(60, 64, 67, 0.3), 0 1px 3px 1px rgba(60, 64, 67, 0.15);\n",
              "    fill: var(--button-hover-fill-color);\n",
              "  }\n",
              "\n",
              "  .colab-df-quickchart-complete:disabled,\n",
              "  .colab-df-quickchart-complete:disabled:hover {\n",
              "    background-color: var(--disabled-bg-color);\n",
              "    fill: var(--disabled-fill-color);\n",
              "    box-shadow: none;\n",
              "  }\n",
              "\n",
              "  .colab-df-spinner {\n",
              "    border: 2px solid var(--fill-color);\n",
              "    border-color: transparent;\n",
              "    border-bottom-color: var(--fill-color);\n",
              "    animation:\n",
              "      spin 1s steps(1) infinite;\n",
              "  }\n",
              "\n",
              "  @keyframes spin {\n",
              "    0% {\n",
              "      border-color: transparent;\n",
              "      border-bottom-color: var(--fill-color);\n",
              "      border-left-color: var(--fill-color);\n",
              "    }\n",
              "    20% {\n",
              "      border-color: transparent;\n",
              "      border-left-color: var(--fill-color);\n",
              "      border-top-color: var(--fill-color);\n",
              "    }\n",
              "    30% {\n",
              "      border-color: transparent;\n",
              "      border-left-color: var(--fill-color);\n",
              "      border-top-color: var(--fill-color);\n",
              "      border-right-color: var(--fill-color);\n",
              "    }\n",
              "    40% {\n",
              "      border-color: transparent;\n",
              "      border-right-color: var(--fill-color);\n",
              "      border-top-color: var(--fill-color);\n",
              "    }\n",
              "    60% {\n",
              "      border-color: transparent;\n",
              "      border-right-color: var(--fill-color);\n",
              "    }\n",
              "    80% {\n",
              "      border-color: transparent;\n",
              "      border-right-color: var(--fill-color);\n",
              "      border-bottom-color: var(--fill-color);\n",
              "    }\n",
              "    90% {\n",
              "      border-color: transparent;\n",
              "      border-bottom-color: var(--fill-color);\n",
              "    }\n",
              "  }\n",
              "</style>\n",
              "\n",
              "  <script>\n",
              "    async function quickchart(key) {\n",
              "      const quickchartButtonEl =\n",
              "        document.querySelector('#' + key + ' button');\n",
              "      quickchartButtonEl.disabled = true;  // To prevent multiple clicks.\n",
              "      quickchartButtonEl.classList.add('colab-df-spinner');\n",
              "      try {\n",
              "        const charts = await google.colab.kernel.invokeFunction(\n",
              "            'suggestCharts', [key], {});\n",
              "      } catch (error) {\n",
              "        console.error('Error during call to suggestCharts:', error);\n",
              "      }\n",
              "      quickchartButtonEl.classList.remove('colab-df-spinner');\n",
              "      quickchartButtonEl.classList.add('colab-df-quickchart-complete');\n",
              "    }\n",
              "    (() => {\n",
              "      let quickchartButtonEl =\n",
              "        document.querySelector('#df-ffabe31c-221d-43a8-9e50-82911abfb33e button');\n",
              "      quickchartButtonEl.style.display =\n",
              "        google.colab.kernel.accessAllowed ? 'block' : 'none';\n",
              "    })();\n",
              "  </script>\n",
              "</div>\n",
              "    </div>\n",
              "  </div>\n"
            ]
          },
          "metadata": {},
          "execution_count": 4
        }
      ]
    },
    {
      "cell_type": "code",
      "source": [
        "import matplotlib.pyplot as plt\n",
        "plt.scatter(df['cgpa'],df['iq'])"
      ],
      "metadata": {
        "colab": {
          "base_uri": "https://localhost:8080/",
          "height": 447
        },
        "id": "f08nHC_kIgb4",
        "outputId": "85160ac6-faad-4b62-eba6-fe76644a8aa5"
      },
      "execution_count": null,
      "outputs": [
        {
          "output_type": "execute_result",
          "data": {
            "text/plain": [
              "<matplotlib.collections.PathCollection at 0x7b1ae8a94df0>"
            ]
          },
          "metadata": {},
          "execution_count": 5
        },
        {
          "output_type": "display_data",
          "data": {
            "text/plain": [
              "<Figure size 640x480 with 1 Axes>"
            ],
            "image/png": "[encoded data removed]"
          },
          "metadata": {}
        }
      ]
    },
    {
      "cell_type": "code",
      "source": [
        "from sklearn.cluster import KMeans"
      ],
      "metadata": {
        "id": "JSGnN7HWIkVv"
      },
      "execution_count": null,
      "outputs": []
    },
    {
      "cell_type": "code",
      "source": [
        "wcss = []\n",
        "\n",
        "for i in range(1,11):\n",
        "    km = KMeans(n_clusters=i)\n",
        "    km.fit_predict(df)\n",
        "    wcss.append(km.inertia_)"
      ],
      "metadata": {
        "id": "lMgxBpR7ItBq"
      },
      "execution_count": null,
      "outputs": []
    },
    {
      "cell_type": "code",
      "source": [
        "wcss"
      ],
      "metadata": {
        "colab": {
          "base_uri": "https://localhost:8080/"
        },
        "id": "c6eJmjW6I60y",
        "outputId": "52be5778-5868-40d6-ed16-7c943ee96b09"
      },
      "execution_count": null,
      "outputs": [
        {
          "output_type": "execute_result",
          "data": {
            "text/plain": [
              "[29957.898288000004,\n",
              " 4184.141270000001,\n",
              " 2362.713349,\n",
              " 681.9696600000003,\n",
              " 514.1616803171116,\n",
              " 395.9605877691831,\n",
              " 295.43918959431915,\n",
              " 233.54082485509014,\n",
              " 211.10634440260407,\n",
              " 175.16357855343102]"
            ]
          },
          "metadata": {},
          "execution_count": 8
        }
      ]
    },
    {
      "cell_type": "code",
      "source": [
        "plt.plot(range(1,11),wcss) #visualize the WCSS values and look for an \"elbow point\" in the plot"
      ],
      "metadata": {
        "colab": {
          "base_uri": "https://localhost:8080/",
          "height": 447
        },
        "id": "4LoNlm6YLb4a",
        "outputId": "3f09da3a-4e54-4350-cd2f-e5bf25cb5ea4"
      },
      "execution_count": null,
      "outputs": [
        {
          "output_type": "execute_result",
          "data": {
            "text/plain": [
              "[<matplotlib.lines.Line2D at 0x7b1ade2eb400>]"
            ]
          },
          "metadata": {},
          "execution_count": 9
        },
        {
          "output_type": "display_data",
          "data": {
            "text/plain": [
              "<Figure size 640x480 with 1 Axes>"
            ],
            "image/png": "[encoded data removed]"
          },
          "metadata": {}
        }
      ]
    },
    {
      "cell_type": "code",
      "source": [
        "X = df.iloc[:,:].values\n",
        "km = KMeans(n_clusters=4)\n",
        "y_means = km.fit_predict(X)\n",
        "#The resulting y_means is an array of cluster labels,\n",
        "#where each element corresponds to the cluster assignment for a data point in X."
      ],
      "metadata": {
        "colab": {
          "base_uri": "https://localhost:8080/"
        },
        "id": "eReEv4hzLeBa",
        "outputId": "6b0ca38b-132e-4018-a9f0-8d89f92ba282"
      },
      "execution_count": null,
      "outputs": [
        {
          "output_type": "stream",
          "name": "stderr",
          "text": [
            "/usr/local/lib/python3.10/dist-packages/sklearn/cluster/_kmeans.py:870: FutureWarning: The default value of `n_init` will change from 10 to 'auto' in 1.4. Set the value of `n_init` explicitly to suppress the warning\n",
            "  warnings.warn(\n"
          ]
        }
      ]
    },
    {
      "cell_type": "code",
      "source": [
        "y_means"
      ],
      "metadata": {
        "colab": {
          "base_uri": "https://localhost:8080/"
        },
        "id": "rXxHmOUmLgXG",
        "outputId": "664a50c6-ea1a-4696-c9e9-e6d147b89206"
      },
      "execution_count": null,
      "outputs": [
        {
          "output_type": "execute_result",
          "data": {
            "text/plain": [
              "array([0, 3, 2, 2, 3, 3, 2, 1, 3, 2, 0, 3, 2, 0, 3, 2, 3, 2, 3, 3, 2, 0,\n",
              "       2, 0, 0, 2, 0, 1, 2, 3, 1, 3, 1, 3, 2, 2, 1, 3, 0, 3, 0, 2, 2, 0,\n",
              "       1, 1, 2, 3, 1, 3, 0, 0, 1, 2, 1, 3, 3, 1, 3, 1, 3, 2, 2, 1, 0, 1,\n",
              "       2, 0, 3, 2, 3, 1, 2, 0, 3, 1, 3, 1, 0, 2, 2, 1, 3, 0, 1, 0, 1, 3,\n",
              "       1, 3, 1, 1, 2, 0, 2, 2, 1, 2, 0, 1, 3, 0, 0, 1, 0, 0, 2, 0, 1, 1,\n",
              "       2, 1, 3, 3, 2, 1, 2, 3, 1, 0, 0, 3, 2, 1, 2, 0, 2, 3, 0, 2, 2, 3,\n",
              "       0, 0, 3, 1, 3, 0, 2, 2, 2, 0, 3, 0, 0, 1, 0, 1, 3, 0, 1, 0, 1, 1,\n",
              "       0, 2, 3, 1, 3, 2, 0, 1, 3, 2, 1, 0, 3, 0, 0, 1, 1, 3, 1, 0, 0, 2,\n",
              "       1, 3, 0, 1, 1, 3, 3, 3, 2, 0, 2, 2, 1, 3, 2, 2, 0, 0, 2, 0, 1, 3,\n",
              "       3, 1], dtype=int32)"
            ]
          },
          "metadata": {},
          "execution_count": 11
        }
      ]
    },
    {
      "cell_type": "code",
      "source": [
        "X[y_means == 3,1]"
      ],
      "metadata": {
        "colab": {
          "base_uri": "https://localhost:8080/"
        },
        "id": "krA1ocUYLiS3",
        "outputId": "fae8123c-a498-401a-cd20-a0ea821d22f1"
      },
      "execution_count": null,
      "outputs": [
        {
          "output_type": "execute_result",
          "data": {
            "text/plain": [
              "array([113., 110., 109., 110., 110., 108., 111., 111., 113., 106., 112.,\n",
              "       106., 108., 113., 108., 109., 108., 111., 109., 104., 111., 109.,\n",
              "       109., 112., 111., 109., 108., 110., 109., 111., 108., 109., 109.,\n",
              "       111., 112., 109., 111., 107., 111., 110., 108., 109., 110., 108.,\n",
              "       108., 110., 107., 111., 112., 108.])"
            ]
          },
          "metadata": {},
          "execution_count": 12
        }
      ]
    },
    {
      "cell_type": "code",
      "source": [
        "plt.scatter(X[y_means == 0,0],X[y_means == 0,1],color='blue')\n",
        "plt.scatter(X[y_means == 1,0],X[y_means == 1,1],color='red')\n",
        "plt.scatter(X[y_means == 2,0],X[y_means == 2,1],color='green')\n",
        "plt.scatter(X[y_means == 3,0],X[y_means == 3,1],color='yellow')"
      ],
      "metadata": {
        "colab": {
          "base_uri": "https://localhost:8080/",
          "height": 447
        },
        "id": "NsTMM4LeLlrn",
        "outputId": "3e62f1b9-220e-4be9-aec2-9d3437024a67"
      },
      "execution_count": null,
      "outputs": [
        {
          "output_type": "execute_result",
          "data": {
            "text/plain": [
              "<matplotlib.collections.PathCollection at 0x7b1adb76e170>"
            ]
          },
          "metadata": {},
          "execution_count": 13
        },
        {
          "output_type": "display_data",
          "data": {
            "text/plain": [
              "<Figure size 640x480 with 1 Axes>"
            ],
            "image/png": "[encoded data removed]"
          },
          "metadata": {}
        }
      ]
    },
    {
      "cell_type": "code",
      "source": [
        "from sklearn.datasets import make_blobs\n",
        "\n",
        "# Define the centroids (centers) for the clusters\n",
        "centroids = [(-5, -5, 5), (5, 5, -5), (3.5, -2.5, 4), (-2.5, 2.5, -4)]\n",
        "\n",
        "# Define the standard deviation for each cluster\n",
        "cluster_std = [1, 1, 1, 1]\n",
        "\n",
        "# Generate synthetic data with specified parameters\n",
        "X, y = make_blobs(\n",
        "    n_samples=200,          # Total number of data points\n",
        "    cluster_std=cluster_std, # Standard deviation for each cluster\n",
        "    centers=centroids,      # Cluster centers\n",
        "    n_features=3,           # Number of features (dimensions) for each data point\n",
        "    random_state=1          # Random seed for reproducibility\n",
        ")"
      ],
      "metadata": {
        "id": "GE06qsaJNeLF"
      },
      "execution_count": null,
      "outputs": []
    },
    {
      "cell_type": "code",
      "source": [
        "X"
      ],
      "metadata": {
        "id": "jaPpUdhnNhnF"
      },
      "execution_count": null,
      "outputs": []
    },
    {
      "cell_type": "code",
      "source": [
        "import plotly.express as px\n",
        "fig = px.scatter_3d(x=X[:,0], y=X[:,1], z=X[:,2])\n",
        "fig.show()"
      ],
      "metadata": {
        "colab": {
          "base_uri": "https://localhost:8080/",
          "height": 542
        },
        "id": "4BfN1GNDNjnb",
        "outputId": "484fdffa-ec52-441c-df37-d31df4c030a4"
      },
      "execution_count": null,
      "outputs": [
        {
          "output_type": "display_data",
          "data": {
            "text/html": [
              "<html>\n",
              "<head><meta charset=\"utf-8\" /></head>\n",
              "<body>\n",
              "    <div>            <script src=\"https://cdnjs.cloudflare.com/ajax/libs/mathjax/2.7.5/MathJax.js?config=TeX-AMS-MML_SVG\"></script><script type=\"text/javascript\">if (window.MathJax && window.MathJax.Hub && window.MathJax.Hub.Config) {window.MathJax.Hub.Config({SVG: {font: \"STIX-Web\"}});}</script>                <script type=\"text/javascript\">window.PlotlyConfig = {MathJaxConfig: 'local'};</script>\n",
              "        <script charset=\"utf-8\" src=\"https://cdn.plot.ly/plotly-2.24.1.min.js\"></script>                <div id=\"5a7f8f90-1529-4fe3-be79-430f13343e40\" class=\"plotly-graph-div\" style=\"height:525px; width:100%;\"></div>            <script type=\"text/javascript\">                                    window.PLOTLYENV=window.PLOTLYENV || {};                                    if (document.getElementById(\"5a7f8f90-1529-4fe3-be79-430f13343e40\")) {                    Plotly.newPlot(                        \"5a7f8f90-1529-4fe3-be79-430f13343e40\",                        [{\"hovertemplate\":\"x=%{x}\\u003cbr\\u003ey=%{y}\\u003cbr\\u003ez=%{z}\\u003cextra\\u003e\\u003c\\u002fextra\\u003e\",\"legendgroup\":\"\",\"marker\":{\"color\":\"#636efa\",\"symbol\":\"circle\"},\"mode\":\"markers\",\"name\":\"\",\"scene\":\"scene\",\"showlegend\":false,\"x\":[4.334245481800873,-3.322467188904252,-6.0729686221561705,6.904658708340981,-2.60839206717354,5.884908814464883,-4.6848406079577085,-1.8254292930439964,-5.343853675571076,4.91549197259537,-3.801082120098493,4.673500501921816,-6.230058135666962,-3.9023291454531366,3.7274412447540057,-3.3088471964721284,2.7027302145068703,4.064382855494314,4.6926860677546935,4.1210827008390085,-6.615772354703295,3.057770720486827,-1.4861775330282945,-5.322417204013507,-5.266218506003622,5.201830178874004,-2.918937897678123,3.3097789749151385,5.129101579710725,-2.46505641063626,1.462798774319205,3.8779812712531117,4.109444415836951,-6.099891267314031,-3.0322340208981773,7.449368649061397,-4.470534675647291,-1.4670162210502489,3.02084290121392,3.824274243448421,-5.747158293750838,-1.5136478197879357,-4.801700279873231,6.5588055406198595,-1.4887929362250916,4.308844360265682,3.5864644065242874,3.3725616593837424,-1.3928245490509377,-4.649454021335893,3.8835299821152556,3.3245410313382475,3.450297420841324,-2.959942830840687,-3.0328982507452653,-4.136654682455978,-3.6134361029729902,2.0734445794794683,4.117985533920335,3.603379575404568,-5.84520564149872,-2.4103135926774097,-2.7589828534005325,-2.442879003917908,3.9611640999770175,-7.022201215824003,2.9001954689291525,5.810951672803556,-5.754397940996653,-2.7758460625611434,3.0708577217649062,2.20691499985346,4.299601495078745,4.863555256103967,-4.381619738001476,5.429526140021965,3.6942730774422623,5.901486891648711,-4.8798410475183704,3.9381663472912374,-3.3286279788564057,-4.769905264635616,-2.1275431484885576,-0.646990514930621,-5.636995646569353,-1.863416590585369,4.825296840257499,-5.24937037547741,-4.5965083582092,-3.664007971161202,6.293225882532262,-2.8534099828670145,-2.358359462334195,5.610605053600709,-1.7869509496967309,-6.117310348635278,-5.638730407454222,5.623362176578032,-3.3723492468510936,-5.691660751725309,7.190699728969733,-3.8683706125485733,-4.62243621367908,5.211124755007717,-2.6187711721030893,-2.9244927905709273,-2.809121318641862,4.353281221955623,2.798655573742823,-3.6549826349293646,4.888779396370269,4.943175519114153,3.9776101818175573,-3.4184400383000257,3.508548945436025,-2.6397117304410727,-3.3756546363367583,-2.371623009844056,1.8159400141317628,5.043668993178389,-4.198138968128656,5.134048196554623,3.393206013220775,4.340861558141103,-0.806190886711919,-5.623530729679792,5.565783320218834,4.413476061178407,4.015073613639366,-5.0246169558757785,5.5563555231982935,-5.200758068929997,-2.527529386267978,-3.855276290160386,5.78477065101559,1.7440743597671482,3.2712341711298376,7.186979646974258,-2.788997343009816,-3.370008223190852,-4.301967965927781,3.955410618092208,3.55912397570816,-3.0938430672545096,-5.935769434259068,5.836004719434269,4.68988322648194,-5.2980928351027154,-1.302169158278749,4.926887296252723,-3.306184817382224,4.5017864363689215,3.8672318138838646,4.324584625033458,4.879535428211493,3.5133526763471767,-4.830617566941332,-1.6290301974677577,1.6268390223646985,6.399843942480986,5.824005618450408,-3.2551882357835202,-4.957786253284407,2.7500303827243338,3.852494364369333,-5.101745872529145,-4.839962930552169,1.0864969988262123,4.615841107924169,-4.257955839422665,5.095425087191257,-6.396496335488138,5.262467445463269,3.5353600970547574,5.248799161387771,5.618539130786293,-2.3926567061764104,3.1687168300673716,3.9516159505552415,-4.099144050735588,-1.984586198216759,-1.4550055903261025,2.9425052782139565,2.7744028808655727,4.500881423680301,-5.352249846493518,-2.9148469012882354,-4.068897918696443,3.4743196837706423,3.668048333482752,-3.2223919054141508,-3.6077125022845524,5.562761096619027,1.385836078083174,4.420017933247763,4.712692136523981,-4.137449593008341,-5.208894233374778,2.619422400155829,-1.3989997973315182],\"y\":[3.325804192381068,3.2217112921126927,-4.134592370675321,6.111056698560505,2.950155512767179,4.122718481081812,-4.153839352414966,3.9608923804630782,-4.956403143165753,4.702638117226496,-4.8148435825160565,3.657324210622564,-4.449462504023785,2.9511229387345987,5.313547720463432,3.0574394528580333,-2.2173242877515795,-0.3621719325605177,-2.7379419357521826,-1.5438782958753037,-3.878582291764336,-2.176472646398568,0.2728873681499855,-5.384054354668415,-4.967385453306641,5.661020287598693,2.020815084872594,-2.948738032671623,6.6169495988573,3.9539175816088177,-4.442589181476455,4.482905542079772,3.880884601440272,-5.1724282075504355,3.6181333967176954,4.454225832017432,-4.862298790002614,2.2775859714700912,-2.149832841171721,-2.4781371633734475,-3.3075453989722536,2.033845143174072,-4.880991354192541,5.109402696425428,1.0234373394798197,-0.7102453167937288,-4.642466729077368,5.602319280295629,3.942876928496309,-6.3122834112374315,5.080927100973279,-3.4339146556265012,-2.0333567327711592,3.144353666030322,-6.857981864446752,-5.1809203020781505,2.4325899750531454,-0.7320400516889736,-2.684176325653745,4.138683639223958,-5.671246130836819,1.8988431993506165,2.6892931975586576,1.70045250930824,-3.6759826714413153,-5.306204012628372,-1.3765878379780647,6.044442094707259,-3.747131844766712,3.7289555856506973,-1.291543671448037,6.93752881361608,4.796605551035442,4.88094581222519,-4.767505440821262,4.393001601799954,4.655012789845021,7.528325706806398,-4.382796890292581,-1.3776716783429077,3.028879745585174,-4.237988819687975,2.3515101969406063,2.6422513725263177,-4.809084515332534,3.9092533893640082,5.986335187821242,-3.537892062955026,-4.406421476762933,3.1933662256603847,4.889552973582684,0.7120871088002843,-0.016303860965749095,-3.8065340728440185,3.8062060651354486,-4.765584302182908,-4.576505645935887,4.565043317044772,-4.661988303425524,-5.396753526855977,3.1036390771089075,-3.480183183577801,-4.878178729008563,5.016527567305616,2.3010018161962758,1.7684690182696667,3.0109377744920893,-2.9130293097110322,-3.037223023875338,2.322367804016449,-3.1613442431530188,5.492336555936649,-3.5218859446413093,2.394655287492458,-2.668198839744716,3.8863142642463187,-5.611756413650076,4.260415183575322,-3.660170104982276,4.773685757486395,-4.953432701575855,6.202054862199706,-1.0485707394090646,-2.602887217573538,2.6968697792502914,-4.479423662926629,-3.971156925832625,3.763146623458603,-5.282534467652923,-5.775161619169159,-0.7397507735509068,-4.813438609011715,4.2464350892279725,-4.098409279407204,4.044574737626311,-1.7852104025141846,-0.8866386254368845,5.441364443568582,2.1081837601919515,2.869190469546874,-5.447128564785999,7.051173442857444,6.2322530708284365,2.1560992907896077,-5.267888079626016,6.5433591108044835,2.565162235892861,-4.511481853462503,4.204594171372407,6.16033856999377,2.2483257923685755,4.689015021697149,-1.2671008076237629,-1.8454198474132997,3.766879264553573,-3.194693595287226,-4.259443548903725,1.9915428657245993,-1.5793848819450438,4.2180883173131996,4.43769456898091,-5.761206900895103,-4.417184786284178,-0.4453758974818842,-2.7364369518129865,-4.131113842994132,-4.123831078883775,-4.277566375805987,-2.1897277122162326,-5.191835552361615,5.921450068659511,-6.4441138054295894,5.276499304822184,-4.038793245744643,4.703358847629137,4.556828069299362,1.1011871813335237,-2.1134608548669087,-1.3958256736967865,-5.683727859174333,1.3851289476340631,3.1085146984848495,-1.5608312558035122,-3.3677686776235904,-2.88483224883279,-6.14251819802214,2.951946037321223,-4.714412674745741,5.795026094424845,3.2393114396012166,3.5989963327471792,2.482281682089858,5.240737092237732,-2.9116391631884824,-2.695057340875901,5.680069839878104,6.458602704037963,-4.4133768088178025,-2.77909772154329,3.2800271353386297],\"z\":[-4.174970175561014,-4.625342001465988,2.6984613031197173,-4.34095020389979,-2.2346648994809284,-5.867787222872925,4.140484059168013,-3.40752719857598,4.379999156051871,-4.582697995025137,4.624715049909886,-3.885617023220208,5.7928068659193475,-4.694920901185239,-4.496815186564674,-3.818961255642129,3.1739025681526796,3.2144660030797647,5.155287886088225,3.294159492597716,5.408900537936828,3.890008509836393,-5.6993336047222956,6.133769442335438,3.626882679753244,-3.207841791024433,-5.9521052872452325,3.3275519612134037,-4.497259118000096,-3.3383189235340174,1.4935593473239388,-5.997026827650263,-3.043921096296358,4.122141582078628,-3.325603895179131,-5.1988378628888965,5.077821127912706,-2.5298396561742598,4.017164726374088,3.5313261837221086,5.050807754776029,-2.6150086563513613,4.329337713710969,-6.219744396979033,-4.143195745007238,4.451284016040171,3.169831135977292,-4.5797177963529405,-4.539681562202492,4.961304490733949,-5.186578993511466,3.4669796739164007,5.033686867939501,-3.6283297087881348,6.23616403045282,4.396079372206743,-2.838560018325606,3.524627124862018,3.8840148145276037,-4.3252884743120275,4.987335401081099,-3.4439264899226147,-4.563788734582303,-4.2915945955008326,5.0101271773347245,5.827974642607246,4.3052670402440105,-5.400878191788927,5.512929820418009,-2.6902940943173466,5.1157018027844865,-4.633667985459942,-4.7573305589182056,-4.982590591699996,5.682551406864485,-4.893777275964783,-5.230839743135469,-5.24863477771546,5.300170319955828,3.0029802044703175,-6.237086511112471,4.777671857389641,-4.183400197320024,-3.4864945200114525,7.100255136478842,-2.3790877143782527,-4.786466098664558,2.939859290502346,3.905088154258958,-4.7580673285562325,-5.617362063712361,-3.6381526841604317,-4.59566788091029,4.076380480159592,-4.604602969164376,6.659802177109871,5.077340068348559,-3.5924599997587716,3.800731967664814,4.312827299880401,-5.646916688254908,7.185575406533161,6.129483907911919,-4.822812279724039,-2.133528624847875,-5.565738150655905,-2.289338161328865,5.834717626649686,4.156263850270083,-5.510456375087569,7.030857112372031,-5.680678141008886,4.794528239601083,-3.369804329315089,3.825819655692009,-3.4518704153118067,4.4718282477365445,-3.033460749770943,5.350106818681726,-3.668542887412408,4.813430228092651,-4.715251889150942,3.3819631523184213,5.146900376399483,-3.830130744652428,3.8556586103768575,3.169828104684886,-4.1241610723507005,4.584646610477426,6.273755930158776,3.93934750822519,5.410051647208256,-4.775070287073435,5.502494338901868,-4.414089568897384,4.852704061725286,3.6251953126973473,-5.1001552332835,-3.315998671818047,-3.1467178141762666,6.224507704805498,-4.414337999827618,-5.254179867607368,-5.000169189872516,5.530355466738186,-4.241194339902069,-3.961175398140586,4.924428286978944,-2.9599108468459048,-4.630507283624277,-3.617284826275636,-5.001891482838004,3.5771430386092247,3.948811552392336,-6.182318126509633,4.621803504305572,4.046299398192065,-3.222580794751137,3.964632075121289,-5.4375089828285805,-3.0451219249909656,5.319039096057098,3.8993808227870788,4.053409536798348,4.727813499999649,5.750411639865008,5.315634947241605,3.222141173372587,1.9057521837771878,4.112371035915164,-4.939249804200493,4.495534137053549,-5.733271603895313,3.5521048152838812,-4.50478867602204,-3.1894650858745437,-3.9182321811943837,3.1485443434691733,3.718263730934387,4.877109774481352,-4.767309826331735,-4.069328696690483,2.0566765943316474,3.864022673899411,5.45810823860952,4.650657277587123,-5.579156285394466,5.885141164270728,-5.374438318843221,-6.6507212658241,-4.901634490475998,-5.7193944746195235,-4.719334922877361,5.278528082841722,4.805393424232181,-5.319801598898671,-3.3513563559093327,5.838983413874505,5.622849085954001,-4.62944160405378],\"type\":\"scatter3d\"}],                        {\"template\":{\"data\":{\"histogram2dcontour\":[{\"type\":\"histogram2dcontour\",\"colorbar\":{\"outlinewidth\":0,\"ticks\":\"\"},\"colorscale\":[[0.0,\"#0d0887\"],[0.1111111111111111,\"#46039f\"],[0.2222222222222222,\"#7201a8\"],[0.3333333333333333,\"#9c179e\"],[0.4444444444444444,\"#bd3786\"],[0.5555555555555556,\"#d8576b\"],[0.6666666666666666,\"#ed7953\"],[0.7777777777777778,\"#fb9f3a\"],[0.8888888888888888,\"#fdca26\"],[1.0,\"#f0f921\"]]}],\"choropleth\":[{\"type\":\"choropleth\",\"colorbar\":{\"outlinewidth\":0,\"ticks\":\"\"}}],\"histogram2d\":[{\"type\":\"histogram2d\",\"colorbar\":{\"outlinewidth\":0,\"ticks\":\"\"},\"colorscale\":[[0.0,\"#0d0887\"],[0.1111111111111111,\"#46039f\"],[0.2222222222222222,\"#7201a8\"],[0.3333333333333333,\"#9c179e\"],[0.4444444444444444,\"#bd3786\"],[0.5555555555555556,\"#d8576b\"],[0.6666666666666666,\"#ed7953\"],[0.7777777777777778,\"#fb9f3a\"],[0.8888888888888888,\"#fdca26\"],[1.0,\"#f0f921\"]]}],\"heatmap\":[{\"type\":\"heatmap\",\"colorbar\":{\"outlinewidth\":0,\"ticks\":\"\"},\"colorscale\":[[0.0,\"#0d0887\"],[0.1111111111111111,\"#46039f\"],[0.2222222222222222,\"#7201a8\"],[0.3333333333333333,\"#9c179e\"],[0.4444444444444444,\"#bd3786\"],[0.5555555555555556,\"#d8576b\"],[0.6666666666666666,\"#ed7953\"],[0.7777777777777778,\"#fb9f3a\"],[0.8888888888888888,\"#fdca26\"],[1.0,\"#f0f921\"]]}],\"heatmapgl\":[{\"type\":\"heatmapgl\",\"colorbar\":{\"outlinewidth\":0,\"ticks\":\"\"},\"colorscale\":[[0.0,\"#0d0887\"],[0.1111111111111111,\"#46039f\"],[0.2222222222222222,\"#7201a8\"],[0.3333333333333333,\"#9c179e\"],[0.4444444444444444,\"#bd3786\"],[0.5555555555555556,\"#d8576b\"],[0.6666666666666666,\"#ed7953\"],[0.7777777777777778,\"#fb9f3a\"],[0.8888888888888888,\"#fdca26\"],[1.0,\"#f0f921\"]]}],\"contourcarpet\":[{\"type\":\"contourcarpet\",\"colorbar\":{\"outlinewidth\":0,\"ticks\":\"\"}}],\"contour\":[{\"type\":\"contour\",\"colorbar\":{\"outlinewidth\":0,\"ticks\":\"\"},\"colorscale\":[[0.0,\"#0d0887\"],[0.1111111111111111,\"#46039f\"],[0.2222222222222222,\"#7201a8\"],[0.3333333333333333,\"#9c179e\"],[0.4444444444444444,\"#bd3786\"],[0.5555555555555556,\"#d8576b\"],[0.6666666666666666,\"#ed7953\"],[0.7777777777777778,\"#fb9f3a\"],[0.8888888888888888,\"#fdca26\"],[1.0,\"#f0f921\"]]}],\"surface\":[{\"type\":\"surface\",\"colorbar\":{\"outlinewidth\":0,\"ticks\":\"\"},\"colorscale\":[[0.0,\"#0d0887\"],[0.1111111111111111,\"#46039f\"],[0.2222222222222222,\"#7201a8\"],[0.3333333333333333,\"#9c179e\"],[0.4444444444444444,\"#bd3786\"],[0.5555555555555556,\"#d8576b\"],[0.6666666666666666,\"#ed7953\"],[0.7777777777777778,\"#fb9f3a\"],[0.8888888888888888,\"#fdca26\"],[1.0,\"#f0f921\"]]}],\"mesh3d\":[{\"type\":\"mesh3d\",\"colorbar\":{\"outlinewidth\":0,\"ticks\":\"\"}}],\"scatter\":[{\"fillpattern\":{\"fillmode\":\"overlay\",\"size\":10,\"solidity\":0.2},\"type\":\"scatter\"}],\"parcoords\":[{\"type\":\"parcoords\",\"line\":{\"colorbar\":{\"outlinewidth\":0,\"ticks\":\"\"}}}],\"scatterpolargl\":[{\"type\":\"scatterpolargl\",\"marker\":{\"colorbar\":{\"outlinewidth\":0,\"ticks\":\"\"}}}],\"bar\":[{\"error_x\":{\"color\":\"#2a3f5f\"},\"error_y\":{\"color\":\"#2a3f5f\"},\"marker\":{\"line\":{\"color\":\"#E5ECF6\",\"width\":0.5},\"pattern\":{\"fillmode\":\"overlay\",\"size\":10,\"solidity\":0.2}},\"type\":\"bar\"}],\"scattergeo\":[{\"type\":\"scattergeo\",\"marker\":{\"colorbar\":{\"outlinewidth\":0,\"ticks\":\"\"}}}],\"scatterpolar\":[{\"type\":\"scatterpolar\",\"marker\":{\"colorbar\":{\"outlinewidth\":0,\"ticks\":\"\"}}}],\"histogram\":[{\"marker\":{\"pattern\":{\"fillmode\":\"overlay\",\"size\":10,\"solidity\":0.2}},\"type\":\"histogram\"}],\"scattergl\":[{\"type\":\"scattergl\",\"marker\":{\"colorbar\":{\"outlinewidth\":0,\"ticks\":\"\"}}}],\"scatter3d\":[{\"type\":\"scatter3d\",\"line\":{\"colorbar\":{\"outlinewidth\":0,\"ticks\":\"\"}},\"marker\":{\"colorbar\":{\"outlinewidth\":0,\"ticks\":\"\"}}}],\"scattermapbox\":[{\"type\":\"scattermapbox\",\"marker\":{\"colorbar\":{\"outlinewidth\":0,\"ticks\":\"\"}}}],\"scatterternary\":[{\"type\":\"scatterternary\",\"marker\":{\"colorbar\":{\"outlinewidth\":0,\"ticks\":\"\"}}}],\"scattercarpet\":[{\"type\":\"scattercarpet\",\"marker\":{\"colorbar\":{\"outlinewidth\":0,\"ticks\":\"\"}}}],\"carpet\":[{\"aaxis\":{\"endlinecolor\":\"#2a3f5f\",\"gridcolor\":\"white\",\"linecolor\":\"white\",\"minorgridcolor\":\"white\",\"startlinecolor\":\"#2a3f5f\"},\"baxis\":{\"endlinecolor\":\"#2a3f5f\",\"gridcolor\":\"white\",\"linecolor\":\"white\",\"minorgridcolor\":\"white\",\"startlinecolor\":\"#2a3f5f\"},\"type\":\"carpet\"}],\"table\":[{\"cells\":{\"fill\":{\"color\":\"#EBF0F8\"},\"line\":{\"color\":\"white\"}},\"header\":{\"fill\":{\"color\":\"#C8D4E3\"},\"line\":{\"color\":\"white\"}},\"type\":\"table\"}],\"barpolar\":[{\"marker\":{\"line\":{\"color\":\"#E5ECF6\",\"width\":0.5},\"pattern\":{\"fillmode\":\"overlay\",\"size\":10,\"solidity\":0.2}},\"type\":\"barpolar\"}],\"pie\":[{\"automargin\":true,\"type\":\"pie\"}]},\"layout\":{\"autotypenumbers\":\"strict\",\"colorway\":[\"#636efa\",\"#EF553B\",\"#00cc96\",\"#ab63fa\",\"#FFA15A\",\"#19d3f3\",\"#FF6692\",\"#B6E880\",\"#FF97FF\",\"#FECB52\"],\"font\":{\"color\":\"#2a3f5f\"},\"hovermode\":\"closest\",\"hoverlabel\":{\"align\":\"left\"},\"paper_bgcolor\":\"white\",\"plot_bgcolor\":\"#E5ECF6\",\"polar\":{\"bgcolor\":\"#E5ECF6\",\"angularaxis\":{\"gridcolor\":\"white\",\"linecolor\":\"white\",\"ticks\":\"\"},\"radialaxis\":{\"gridcolor\":\"white\",\"linecolor\":\"white\",\"ticks\":\"\"}},\"ternary\":{\"bgcolor\":\"#E5ECF6\",\"aaxis\":{\"gridcolor\":\"white\",\"linecolor\":\"white\",\"ticks\":\"\"},\"baxis\":{\"gridcolor\":\"white\",\"linecolor\":\"white\",\"ticks\":\"\"},\"caxis\":{\"gridcolor\":\"white\",\"linecolor\":\"white\",\"ticks\":\"\"}},\"coloraxis\":{\"colorbar\":{\"outlinewidth\":0,\"ticks\":\"\"}},\"colorscale\":{\"sequential\":[[0.0,\"#0d0887\"],[0.1111111111111111,\"#46039f\"],[0.2222222222222222,\"#7201a8\"],[0.3333333333333333,\"#9c179e\"],[0.4444444444444444,\"#bd3786\"],[0.5555555555555556,\"#d8576b\"],[0.6666666666666666,\"#ed7953\"],[0.7777777777777778,\"#fb9f3a\"],[0.8888888888888888,\"#fdca26\"],[1.0,\"#f0f921\"]],\"sequentialminus\":[[0.0,\"#0d0887\"],[0.1111111111111111,\"#46039f\"],[0.2222222222222222,\"#7201a8\"],[0.3333333333333333,\"#9c179e\"],[0.4444444444444444,\"#bd3786\"],[0.5555555555555556,\"#d8576b\"],[0.6666666666666666,\"#ed7953\"],[0.7777777777777778,\"#fb9f3a\"],[0.8888888888888888,\"#fdca26\"],[1.0,\"#f0f921\"]],\"diverging\":[[0,\"#8e0152\"],[0.1,\"#c51b7d\"],[0.2,\"#de77ae\"],[0.3,\"#f1b6da\"],[0.4,\"#fde0ef\"],[0.5,\"#f7f7f7\"],[0.6,\"#e6f5d0\"],[0.7,\"#b8e186\"],[0.8,\"#7fbc41\"],[0.9,\"#4d9221\"],[1,\"#276419\"]]},\"xaxis\":{\"gridcolor\":\"white\",\"linecolor\":\"white\",\"ticks\":\"\",\"title\":{\"standoff\":15},\"zerolinecolor\":\"white\",\"automargin\":true,\"zerolinewidth\":2},\"yaxis\":{\"gridcolor\":\"white\",\"linecolor\":\"white\",\"ticks\":\"\",\"title\":{\"standoff\":15},\"zerolinecolor\":\"white\",\"automargin\":true,\"zerolinewidth\":2},\"scene\":{\"xaxis\":{\"backgroundcolor\":\"#E5ECF6\",\"gridcolor\":\"white\",\"linecolor\":\"white\",\"showbackground\":true,\"ticks\":\"\",\"zerolinecolor\":\"white\",\"gridwidth\":2},\"yaxis\":{\"backgroundcolor\":\"#E5ECF6\",\"gridcolor\":\"white\",\"linecolor\":\"white\",\"showbackground\":true,\"ticks\":\"\",\"zerolinecolor\":\"white\",\"gridwidth\":2},\"zaxis\":{\"backgroundcolor\":\"#E5ECF6\",\"gridcolor\":\"white\",\"linecolor\":\"white\",\"showbackground\":true,\"ticks\":\"\",\"zerolinecolor\":\"white\",\"gridwidth\":2}},\"shapedefaults\":{\"line\":{\"color\":\"#2a3f5f\"}},\"annotationdefaults\":{\"arrowcolor\":\"#2a3f5f\",\"arrowhead\":0,\"arrowwidth\":1},\"geo\":{\"bgcolor\":\"white\",\"landcolor\":\"#E5ECF6\",\"subunitcolor\":\"white\",\"showland\":true,\"showlakes\":true,\"lakecolor\":\"white\"},\"title\":{\"x\":0.05},\"mapbox\":{\"style\":\"light\"}}},\"scene\":{\"domain\":{\"x\":[0.0,1.0],\"y\":[0.0,1.0]},\"xaxis\":{\"title\":{\"text\":\"x\"}},\"yaxis\":{\"title\":{\"text\":\"y\"}},\"zaxis\":{\"title\":{\"text\":\"z\"}}},\"legend\":{\"tracegroupgap\":0},\"margin\":{\"t\":60}},                        {\"responsive\": true}                    ).then(function(){\n",
              "                            \n",
              "var gd = document.getElementById('5a7f8f90-1529-4fe3-be79-430f13343e40');\n",
              "var x = new MutationObserver(function (mutations, observer) {{\n",
              "        var display = window.getComputedStyle(gd).display;\n",
              "        if (!display || display === 'none') {{\n",
              "            console.log([gd, 'removed!']);\n",
              "            Plotly.purge(gd);\n",
              "            observer.disconnect();\n",
              "        }}\n",
              "}});\n",
              "\n",
              "// Listen for the removal of the full notebook cells\n",
              "var notebookContainer = gd.closest('#notebook-container');\n",
              "if (notebookContainer) {{\n",
              "    x.observe(notebookContainer, {childList: true});\n",
              "}}\n",
              "\n",
              "// Listen for the clearing of the current output cell\n",
              "var outputEl = gd.closest('.output');\n",
              "if (outputEl) {{\n",
              "    x.observe(outputEl, {childList: true});\n",
              "}}\n",
              "\n",
              "                        })                };                            </script>        </div>\n",
              "</body>\n",
              "</html>"
            ]
          },
          "metadata": {}
        }
      ]
    },
    {
      "cell_type": "code",
      "source": [
        "wcss = []\n",
        "for i in range(1,21):\n",
        "    km = KMeans(n_clusters=i)\n",
        "    km.fit_predict(X)\n",
        "    wcss.append(km.inertia_)"
      ],
      "metadata": {
        "id": "DlEKx8EINm4V"
      },
      "execution_count": null,
      "outputs": []
    },
    {
      "cell_type": "code",
      "source": [
        "plt.plot(range(1,21),wcss)"
      ],
      "metadata": {
        "colab": {
          "base_uri": "https://localhost:8080/",
          "height": 447
        },
        "id": "fxFBm5qcNpqf",
        "outputId": "769ad86b-f622-4f75-fb37-4aea986a1c1b"
      },
      "execution_count": null,
      "outputs": [
        {
          "output_type": "execute_result",
          "data": {
            "text/plain": [
              "[<matplotlib.lines.Line2D at 0x7b1ad9c75000>]"
            ]
          },
          "metadata": {},
          "execution_count": 18
        },
        {
          "output_type": "display_data",
          "data": {
            "text/plain": [
              "<Figure size 640x480 with 1 Axes>"
            ],
            "image/png": "[encoded data removed]"
          },
          "metadata": {}
        }
      ]
    },
    {
      "cell_type": "code",
      "source": [
        "km = KMeans(n_clusters=4)\n",
        "y_pred = km.fit_predict(X)"
      ],
      "metadata": {
        "colab": {
          "base_uri": "https://localhost:8080/"
        },
        "id": "gPl0LAWzNsWw",
        "outputId": "f77640af-bf13-48eb-b682-500648ebc8b7"
      },
      "execution_count": null,
      "outputs": [
        {
          "output_type": "stream",
          "name": "stderr",
          "text": [
            "/usr/local/lib/python3.10/dist-packages/sklearn/cluster/_kmeans.py:870: FutureWarning:\n",
            "\n",
            "The default value of `n_init` will change from 10 to 'auto' in 1.4. Set the value of `n_init` explicitly to suppress the warning\n",
            "\n"
          ]
        }
      ]
    },
    {
      "cell_type": "code",
      "source": [
        "df = pd.DataFrame()\n",
        "\n",
        "df['col1'] = X[:,0]\n",
        "df['col2'] = X[:,1]\n",
        "df['col3'] = X[:,2]\n",
        "df['label'] = y_pred"
      ],
      "metadata": {
        "id": "bv-SeSKPNuQM"
      },
      "execution_count": null,
      "outputs": []
    },
    {
      "cell_type": "code",
      "source": [
        "fig = px.scatter_3d(df,x='col1', y='col2', z='col3',color='label')\n",
        "fig.show()"
      ],
      "metadata": {
        "colab": {
          "base_uri": "https://localhost:8080/",
          "height": 542
        },
        "id": "wTJo559aNv6W",
        "outputId": "56caccf1-c373-4590-b59d-65a5dd3455b8"
      },
      "execution_count": null,
      "outputs": [
        {
          "output_type": "display_data",
          "data": {
            "text/html": [
              "<html>\n",
              "<head><meta charset=\"utf-8\" /></head>\n",
              "<body>\n",
              "    <div>            <script src=\"https://cdnjs.cloudflare.com/ajax/libs/mathjax/2.7.5/MathJax.js?config=TeX-AMS-MML_SVG\"></script><script type=\"text/javascript\">if (window.MathJax && window.MathJax.Hub && window.MathJax.Hub.Config) {window.MathJax.Hub.Config({SVG: {font: \"STIX-Web\"}});}</script>                <script type=\"text/javascript\">window.PlotlyConfig = {MathJaxConfig: 'local'};</script>\n",
              "        <script charset=\"utf-8\" src=\"https://cdn.plot.ly/plotly-2.24.1.min.js\"></script>                <div id=\"5d5cc223-9aae-4b84-ae14-52da7e22ee1c\" class=\"plotly-graph-div\" style=\"height:525px; width:100%;\"></div>            <script type=\"text/javascript\">                                    window.PLOTLYENV=window.PLOTLYENV || {};                                    if (document.getElementById(\"5d5cc223-9aae-4b84-ae14-52da7e22ee1c\")) {                    Plotly.newPlot(                        \"5d5cc223-9aae-4b84-ae14-52da7e22ee1c\",                        [{\"hovertemplate\":\"col1=%{x}\\u003cbr\\u003ecol2=%{y}\\u003cbr\\u003ecol3=%{z}\\u003cbr\\u003elabel=%{marker.color}\\u003cextra\\u003e\\u003c\\u002fextra\\u003e\",\"legendgroup\":\"\",\"marker\":{\"color\":[2,1,0,2,1,2,0,1,0,2,0,2,0,1,2,1,3,3,3,3,0,3,1,0,0,2,1,3,2,1,3,2,2,0,1,2,0,1,3,3,0,1,0,2,1,3,3,2,1,0,2,3,3,1,0,0,1,3,3,2,0,1,1,1,3,0,3,2,0,1,3,2,2,2,0,2,2,2,0,3,1,0,1,1,0,1,2,0,0,1,2,1,1,3,1,0,0,2,0,0,2,0,0,2,1,1,1,3,3,1,3,2,3,1,3,1,0,1,3,2,0,2,3,3,1,0,3,2,3,0,3,0,1,0,2,3,3,2,1,1,0,2,2,1,0,2,2,0,1,2,1,2,3,3,2,3,0,1,3,2,2,0,0,3,3,0,0,3,3,0,2,0,2,3,2,2,1,3,3,0,1,1,3,3,3,0,1,0,2,2,1,1,2,3,3,2,1,0,3,1],\"coloraxis\":\"coloraxis\",\"symbol\":\"circle\"},\"mode\":\"markers\",\"name\":\"\",\"scene\":\"scene\",\"showlegend\":false,\"x\":[4.334245481800873,-3.322467188904252,-6.0729686221561705,6.904658708340981,-2.60839206717354,5.884908814464883,-4.6848406079577085,-1.8254292930439964,-5.343853675571076,4.91549197259537,-3.801082120098493,4.673500501921816,-6.230058135666962,-3.9023291454531366,3.7274412447540057,-3.3088471964721284,2.7027302145068703,4.064382855494314,4.6926860677546935,4.1210827008390085,-6.615772354703295,3.057770720486827,-1.4861775330282945,-5.322417204013507,-5.266218506003622,5.201830178874004,-2.918937897678123,3.3097789749151385,5.129101579710725,-2.46505641063626,1.462798774319205,3.8779812712531117,4.109444415836951,-6.099891267314031,-3.0322340208981773,7.449368649061397,-4.470534675647291,-1.4670162210502489,3.02084290121392,3.824274243448421,-5.747158293750838,-1.5136478197879357,-4.801700279873231,6.5588055406198595,-1.4887929362250916,4.308844360265682,3.5864644065242874,3.3725616593837424,-1.3928245490509377,-4.649454021335893,3.8835299821152556,3.3245410313382475,3.450297420841324,-2.959942830840687,-3.0328982507452653,-4.136654682455978,-3.6134361029729902,2.0734445794794683,4.117985533920335,3.603379575404568,-5.84520564149872,-2.4103135926774097,-2.7589828534005325,-2.442879003917908,3.9611640999770175,-7.022201215824003,2.9001954689291525,5.810951672803556,-5.754397940996653,-2.7758460625611434,3.0708577217649062,2.20691499985346,4.299601495078745,4.863555256103967,-4.381619738001476,5.429526140021965,3.6942730774422623,5.901486891648711,-4.8798410475183704,3.9381663472912374,-3.3286279788564057,-4.769905264635616,-2.1275431484885576,-0.646990514930621,-5.636995646569353,-1.863416590585369,4.825296840257499,-5.24937037547741,-4.5965083582092,-3.664007971161202,6.293225882532262,-2.8534099828670145,-2.358359462334195,5.610605053600709,-1.7869509496967309,-6.117310348635278,-5.638730407454222,5.623362176578032,-3.3723492468510936,-5.691660751725309,7.190699728969733,-3.8683706125485733,-4.62243621367908,5.211124755007717,-2.6187711721030893,-2.9244927905709273,-2.809121318641862,4.353281221955623,2.798655573742823,-3.6549826349293646,4.888779396370269,4.943175519114153,3.9776101818175573,-3.4184400383000257,3.508548945436025,-2.6397117304410727,-3.3756546363367583,-2.371623009844056,1.8159400141317628,5.043668993178389,-4.198138968128656,5.134048196554623,3.393206013220775,4.340861558141103,-0.806190886711919,-5.623530729679792,5.565783320218834,4.413476061178407,4.015073613639366,-5.0246169558757785,5.5563555231982935,-5.200758068929997,-2.527529386267978,-3.855276290160386,5.78477065101559,1.7440743597671482,3.2712341711298376,7.186979646974258,-2.788997343009816,-3.370008223190852,-4.301967965927781,3.955410618092208,3.55912397570816,-3.0938430672545096,-5.935769434259068,5.836004719434269,4.68988322648194,-5.2980928351027154,-1.302169158278749,4.926887296252723,-3.306184817382224,4.5017864363689215,3.8672318138838646,4.324584625033458,4.879535428211493,3.5133526763471767,-4.830617566941332,-1.6290301974677577,1.6268390223646985,6.399843942480986,5.824005618450408,-3.2551882357835202,-4.957786253284407,2.7500303827243338,3.852494364369333,-5.101745872529145,-4.839962930552169,1.0864969988262123,4.615841107924169,-4.257955839422665,5.095425087191257,-6.396496335488138,5.262467445463269,3.5353600970547574,5.248799161387771,5.618539130786293,-2.3926567061764104,3.1687168300673716,3.9516159505552415,-4.099144050735588,-1.984586198216759,-1.4550055903261025,2.9425052782139565,2.7744028808655727,4.500881423680301,-5.352249846493518,-2.9148469012882354,-4.068897918696443,3.4743196837706423,3.668048333482752,-3.2223919054141508,-3.6077125022845524,5.562761096619027,1.385836078083174,4.420017933247763,4.712692136523981,-4.137449593008341,-5.208894233374778,2.619422400155829,-1.3989997973315182],\"y\":[3.325804192381068,3.2217112921126927,-4.134592370675321,6.111056698560505,2.950155512767179,4.122718481081812,-4.153839352414966,3.9608923804630782,-4.956403143165753,4.702638117226496,-4.8148435825160565,3.657324210622564,-4.449462504023785,2.9511229387345987,5.313547720463432,3.0574394528580333,-2.2173242877515795,-0.3621719325605177,-2.7379419357521826,-1.5438782958753037,-3.878582291764336,-2.176472646398568,0.2728873681499855,-5.384054354668415,-4.967385453306641,5.661020287598693,2.020815084872594,-2.948738032671623,6.6169495988573,3.9539175816088177,-4.442589181476455,4.482905542079772,3.880884601440272,-5.1724282075504355,3.6181333967176954,4.454225832017432,-4.862298790002614,2.2775859714700912,-2.149832841171721,-2.4781371633734475,-3.3075453989722536,2.033845143174072,-4.880991354192541,5.109402696425428,1.0234373394798197,-0.7102453167937288,-4.642466729077368,5.602319280295629,3.942876928496309,-6.3122834112374315,5.080927100973279,-3.4339146556265012,-2.0333567327711592,3.144353666030322,-6.857981864446752,-5.1809203020781505,2.4325899750531454,-0.7320400516889736,-2.684176325653745,4.138683639223958,-5.671246130836819,1.8988431993506165,2.6892931975586576,1.70045250930824,-3.6759826714413153,-5.306204012628372,-1.3765878379780647,6.044442094707259,-3.747131844766712,3.7289555856506973,-1.291543671448037,6.93752881361608,4.796605551035442,4.88094581222519,-4.767505440821262,4.393001601799954,4.655012789845021,7.528325706806398,-4.382796890292581,-1.3776716783429077,3.028879745585174,-4.237988819687975,2.3515101969406063,2.6422513725263177,-4.809084515332534,3.9092533893640082,5.986335187821242,-3.537892062955026,-4.406421476762933,3.1933662256603847,4.889552973582684,0.7120871088002843,-0.016303860965749095,-3.8065340728440185,3.8062060651354486,-4.765584302182908,-4.576505645935887,4.565043317044772,-4.661988303425524,-5.396753526855977,3.1036390771089075,-3.480183183577801,-4.878178729008563,5.016527567305616,2.3010018161962758,1.7684690182696667,3.0109377744920893,-2.9130293097110322,-3.037223023875338,2.322367804016449,-3.1613442431530188,5.492336555936649,-3.5218859446413093,2.394655287492458,-2.668198839744716,3.8863142642463187,-5.611756413650076,4.260415183575322,-3.660170104982276,4.773685757486395,-4.953432701575855,6.202054862199706,-1.0485707394090646,-2.602887217573538,2.6968697792502914,-4.479423662926629,-3.971156925832625,3.763146623458603,-5.282534467652923,-5.775161619169159,-0.7397507735509068,-4.813438609011715,4.2464350892279725,-4.098409279407204,4.044574737626311,-1.7852104025141846,-0.8866386254368845,5.441364443568582,2.1081837601919515,2.869190469546874,-5.447128564785999,7.051173442857444,6.2322530708284365,2.1560992907896077,-5.267888079626016,6.5433591108044835,2.565162235892861,-4.511481853462503,4.204594171372407,6.16033856999377,2.2483257923685755,4.689015021697149,-1.2671008076237629,-1.8454198474132997,3.766879264553573,-3.194693595287226,-4.259443548903725,1.9915428657245993,-1.5793848819450438,4.2180883173131996,4.43769456898091,-5.761206900895103,-4.417184786284178,-0.4453758974818842,-2.7364369518129865,-4.131113842994132,-4.123831078883775,-4.277566375805987,-2.1897277122162326,-5.191835552361615,5.921450068659511,-6.4441138054295894,5.276499304822184,-4.038793245744643,4.703358847629137,4.556828069299362,1.1011871813335237,-2.1134608548669087,-1.3958256736967865,-5.683727859174333,1.3851289476340631,3.1085146984848495,-1.5608312558035122,-3.3677686776235904,-2.88483224883279,-6.14251819802214,2.951946037321223,-4.714412674745741,5.795026094424845,3.2393114396012166,3.5989963327471792,2.482281682089858,5.240737092237732,-2.9116391631884824,-2.695057340875901,5.680069839878104,6.458602704037963,-4.4133768088178025,-2.77909772154329,3.2800271353386297],\"z\":[-4.174970175561014,-4.625342001465988,2.6984613031197173,-4.34095020389979,-2.2346648994809284,-5.867787222872925,4.140484059168013,-3.40752719857598,4.379999156051871,-4.582697995025137,4.624715049909886,-3.885617023220208,5.7928068659193475,-4.694920901185239,-4.496815186564674,-3.818961255642129,3.1739025681526796,3.2144660030797647,5.155287886088225,3.294159492597716,5.408900537936828,3.890008509836393,-5.6993336047222956,6.133769442335438,3.626882679753244,-3.207841791024433,-5.9521052872452325,3.3275519612134037,-4.497259118000096,-3.3383189235340174,1.4935593473239388,-5.997026827650263,-3.043921096296358,4.122141582078628,-3.325603895179131,-5.1988378628888965,5.077821127912706,-2.5298396561742598,4.017164726374088,3.5313261837221086,5.050807754776029,-2.6150086563513613,4.329337713710969,-6.219744396979033,-4.143195745007238,4.451284016040171,3.169831135977292,-4.5797177963529405,-4.539681562202492,4.961304490733949,-5.186578993511466,3.4669796739164007,5.033686867939501,-3.6283297087881348,6.23616403045282,4.396079372206743,-2.838560018325606,3.524627124862018,3.8840148145276037,-4.3252884743120275,4.987335401081099,-3.4439264899226147,-4.563788734582303,-4.2915945955008326,5.0101271773347245,5.827974642607246,4.3052670402440105,-5.400878191788927,5.512929820418009,-2.6902940943173466,5.1157018027844865,-4.633667985459942,-4.7573305589182056,-4.982590591699996,5.682551406864485,-4.893777275964783,-5.230839743135469,-5.24863477771546,5.300170319955828,3.0029802044703175,-6.237086511112471,4.777671857389641,-4.183400197320024,-3.4864945200114525,7.100255136478842,-2.3790877143782527,-4.786466098664558,2.939859290502346,3.905088154258958,-4.7580673285562325,-5.617362063712361,-3.6381526841604317,-4.59566788091029,4.076380480159592,-4.604602969164376,6.659802177109871,5.077340068348559,-3.5924599997587716,3.800731967664814,4.312827299880401,-5.646916688254908,7.185575406533161,6.129483907911919,-4.822812279724039,-2.133528624847875,-5.565738150655905,-2.289338161328865,5.834717626649686,4.156263850270083,-5.510456375087569,7.030857112372031,-5.680678141008886,4.794528239601083,-3.369804329315089,3.825819655692009,-3.4518704153118067,4.4718282477365445,-3.033460749770943,5.350106818681726,-3.668542887412408,4.813430228092651,-4.715251889150942,3.3819631523184213,5.146900376399483,-3.830130744652428,3.8556586103768575,3.169828104684886,-4.1241610723507005,4.584646610477426,6.273755930158776,3.93934750822519,5.410051647208256,-4.775070287073435,5.502494338901868,-4.414089568897384,4.852704061725286,3.6251953126973473,-5.1001552332835,-3.315998671818047,-3.1467178141762666,6.224507704805498,-4.414337999827618,-5.254179867607368,-5.000169189872516,5.530355466738186,-4.241194339902069,-3.961175398140586,4.924428286978944,-2.9599108468459048,-4.630507283624277,-3.617284826275636,-5.001891482838004,3.5771430386092247,3.948811552392336,-6.182318126509633,4.621803504305572,4.046299398192065,-3.222580794751137,3.964632075121289,-5.4375089828285805,-3.0451219249909656,5.319039096057098,3.8993808227870788,4.053409536798348,4.727813499999649,5.750411639865008,5.315634947241605,3.222141173372587,1.9057521837771878,4.112371035915164,-4.939249804200493,4.495534137053549,-5.733271603895313,3.5521048152838812,-4.50478867602204,-3.1894650858745437,-3.9182321811943837,3.1485443434691733,3.718263730934387,4.877109774481352,-4.767309826331735,-4.069328696690483,2.0566765943316474,3.864022673899411,5.45810823860952,4.650657277587123,-5.579156285394466,5.885141164270728,-5.374438318843221,-6.6507212658241,-4.901634490475998,-5.7193944746195235,-4.719334922877361,5.278528082841722,4.805393424232181,-5.319801598898671,-3.3513563559093327,5.838983413874505,5.622849085954001,-4.62944160405378],\"type\":\"scatter3d\"}],                        {\"template\":{\"data\":{\"histogram2dcontour\":[{\"type\":\"histogram2dcontour\",\"colorbar\":{\"outlinewidth\":0,\"ticks\":\"\"},\"colorscale\":[[0.0,\"#0d0887\"],[0.1111111111111111,\"#46039f\"],[0.2222222222222222,\"#7201a8\"],[0.3333333333333333,\"#9c179e\"],[0.4444444444444444,\"#bd3786\"],[0.5555555555555556,\"#d8576b\"],[0.6666666666666666,\"#ed7953\"],[0.7777777777777778,\"#fb9f3a\"],[0.8888888888888888,\"#fdca26\"],[1.0,\"#f0f921\"]]}],\"choropleth\":[{\"type\":\"choropleth\",\"colorbar\":{\"outlinewidth\":0,\"ticks\":\"\"}}],\"histogram2d\":[{\"type\":\"histogram2d\",\"colorbar\":{\"outlinewidth\":0,\"ticks\":\"\"},\"colorscale\":[[0.0,\"#0d0887\"],[0.1111111111111111,\"#46039f\"],[0.2222222222222222,\"#7201a8\"],[0.3333333333333333,\"#9c179e\"],[0.4444444444444444,\"#bd3786\"],[0.5555555555555556,\"#d8576b\"],[0.6666666666666666,\"#ed7953\"],[0.7777777777777778,\"#fb9f3a\"],[0.8888888888888888,\"#fdca26\"],[1.0,\"#f0f921\"]]}],\"heatmap\":[{\"type\":\"heatmap\",\"colorbar\":{\"outlinewidth\":0,\"ticks\":\"\"},\"colorscale\":[[0.0,\"#0d0887\"],[0.1111111111111111,\"#46039f\"],[0.2222222222222222,\"#7201a8\"],[0.3333333333333333,\"#9c179e\"],[0.4444444444444444,\"#bd3786\"],[0.5555555555555556,\"#d8576b\"],[0.6666666666666666,\"#ed7953\"],[0.7777777777777778,\"#fb9f3a\"],[0.8888888888888888,\"#fdca26\"],[1.0,\"#f0f921\"]]}],\"heatmapgl\":[{\"type\":\"heatmapgl\",\"colorbar\":{\"outlinewidth\":0,\"ticks\":\"\"},\"colorscale\":[[0.0,\"#0d0887\"],[0.1111111111111111,\"#46039f\"],[0.2222222222222222,\"#7201a8\"],[0.3333333333333333,\"#9c179e\"],[0.4444444444444444,\"#bd3786\"],[0.5555555555555556,\"#d8576b\"],[0.6666666666666666,\"#ed7953\"],[0.7777777777777778,\"#fb9f3a\"],[0.8888888888888888,\"#fdca26\"],[1.0,\"#f0f921\"]]}],\"contourcarpet\":[{\"type\":\"contourcarpet\",\"colorbar\":{\"outlinewidth\":0,\"ticks\":\"\"}}],\"contour\":[{\"type\":\"contour\",\"colorbar\":{\"outlinewidth\":0,\"ticks\":\"\"},\"colorscale\":[[0.0,\"#0d0887\"],[0.1111111111111111,\"#46039f\"],[0.2222222222222222,\"#7201a8\"],[0.3333333333333333,\"#9c179e\"],[0.4444444444444444,\"#bd3786\"],[0.5555555555555556,\"#d8576b\"],[0.6666666666666666,\"#ed7953\"],[0.7777777777777778,\"#fb9f3a\"],[0.8888888888888888,\"#fdca26\"],[1.0,\"#f0f921\"]]}],\"surface\":[{\"type\":\"surface\",\"colorbar\":{\"outlinewidth\":0,\"ticks\":\"\"},\"colorscale\":[[0.0,\"#0d0887\"],[0.1111111111111111,\"#46039f\"],[0.2222222222222222,\"#7201a8\"],[0.3333333333333333,\"#9c179e\"],[0.4444444444444444,\"#bd3786\"],[0.5555555555555556,\"#d8576b\"],[0.6666666666666666,\"#ed7953\"],[0.7777777777777778,\"#fb9f3a\"],[0.8888888888888888,\"#fdca26\"],[1.0,\"#f0f921\"]]}],\"mesh3d\":[{\"type\":\"mesh3d\",\"colorbar\":{\"outlinewidth\":0,\"ticks\":\"\"}}],\"scatter\":[{\"fillpattern\":{\"fillmode\":\"overlay\",\"size\":10,\"solidity\":0.2},\"type\":\"scatter\"}],\"parcoords\":[{\"type\":\"parcoords\",\"line\":{\"colorbar\":{\"outlinewidth\":0,\"ticks\":\"\"}}}],\"scatterpolargl\":[{\"type\":\"scatterpolargl\",\"marker\":{\"colorbar\":{\"outlinewidth\":0,\"ticks\":\"\"}}}],\"bar\":[{\"error_x\":{\"color\":\"#2a3f5f\"},\"error_y\":{\"color\":\"#2a3f5f\"},\"marker\":{\"line\":{\"color\":\"#E5ECF6\",\"width\":0.5},\"pattern\":{\"fillmode\":\"overlay\",\"size\":10,\"solidity\":0.2}},\"type\":\"bar\"}],\"scattergeo\":[{\"type\":\"scattergeo\",\"marker\":{\"colorbar\":{\"outlinewidth\":0,\"ticks\":\"\"}}}],\"scatterpolar\":[{\"type\":\"scatterpolar\",\"marker\":{\"colorbar\":{\"outlinewidth\":0,\"ticks\":\"\"}}}],\"histogram\":[{\"marker\":{\"pattern\":{\"fillmode\":\"overlay\",\"size\":10,\"solidity\":0.2}},\"type\":\"histogram\"}],\"scattergl\":[{\"type\":\"scattergl\",\"marker\":{\"colorbar\":{\"outlinewidth\":0,\"ticks\":\"\"}}}],\"scatter3d\":[{\"type\":\"scatter3d\",\"line\":{\"colorbar\":{\"outlinewidth\":0,\"ticks\":\"\"}},\"marker\":{\"colorbar\":{\"outlinewidth\":0,\"ticks\":\"\"}}}],\"scattermapbox\":[{\"type\":\"scattermapbox\",\"marker\":{\"colorbar\":{\"outlinewidth\":0,\"ticks\":\"\"}}}],\"scatterternary\":[{\"type\":\"scatterternary\",\"marker\":{\"colorbar\":{\"outlinewidth\":0,\"ticks\":\"\"}}}],\"scattercarpet\":[{\"type\":\"scattercarpet\",\"marker\":{\"colorbar\":{\"outlinewidth\":0,\"ticks\":\"\"}}}],\"carpet\":[{\"aaxis\":{\"endlinecolor\":\"#2a3f5f\",\"gridcolor\":\"white\",\"linecolor\":\"white\",\"minorgridcolor\":\"white\",\"startlinecolor\":\"#2a3f5f\"},\"baxis\":{\"endlinecolor\":\"#2a3f5f\",\"gridcolor\":\"white\",\"linecolor\":\"white\",\"minorgridcolor\":\"white\",\"startlinecolor\":\"#2a3f5f\"},\"type\":\"carpet\"}],\"table\":[{\"cells\":{\"fill\":{\"color\":\"#EBF0F8\"},\"line\":{\"color\":\"white\"}},\"header\":{\"fill\":{\"color\":\"#C8D4E3\"},\"line\":{\"color\":\"white\"}},\"type\":\"table\"}],\"barpolar\":[{\"marker\":{\"line\":{\"color\":\"#E5ECF6\",\"width\":0.5},\"pattern\":{\"fillmode\":\"overlay\",\"size\":10,\"solidity\":0.2}},\"type\":\"barpolar\"}],\"pie\":[{\"automargin\":true,\"type\":\"pie\"}]},\"layout\":{\"autotypenumbers\":\"strict\",\"colorway\":[\"#636efa\",\"#EF553B\",\"#00cc96\",\"#ab63fa\",\"#FFA15A\",\"#19d3f3\",\"#FF6692\",\"#B6E880\",\"#FF97FF\",\"#FECB52\"],\"font\":{\"color\":\"#2a3f5f\"},\"hovermode\":\"closest\",\"hoverlabel\":{\"align\":\"left\"},\"paper_bgcolor\":\"white\",\"plot_bgcolor\":\"#E5ECF6\",\"polar\":{\"bgcolor\":\"#E5ECF6\",\"angularaxis\":{\"gridcolor\":\"white\",\"linecolor\":\"white\",\"ticks\":\"\"},\"radialaxis\":{\"gridcolor\":\"white\",\"linecolor\":\"white\",\"ticks\":\"\"}},\"ternary\":{\"bgcolor\":\"#E5ECF6\",\"aaxis\":{\"gridcolor\":\"white\",\"linecolor\":\"white\",\"ticks\":\"\"},\"baxis\":{\"gridcolor\":\"white\",\"linecolor\":\"white\",\"ticks\":\"\"},\"caxis\":{\"gridcolor\":\"white\",\"linecolor\":\"white\",\"ticks\":\"\"}},\"coloraxis\":{\"colorbar\":{\"outlinewidth\":0,\"ticks\":\"\"}},\"colorscale\":{\"sequential\":[[0.0,\"#0d0887\"],[0.1111111111111111,\"#46039f\"],[0.2222222222222222,\"#7201a8\"],[0.3333333333333333,\"#9c179e\"],[0.4444444444444444,\"#bd3786\"],[0.5555555555555556,\"#d8576b\"],[0.6666666666666666,\"#ed7953\"],[0.7777777777777778,\"#fb9f3a\"],[0.8888888888888888,\"#fdca26\"],[1.0,\"#f0f921\"]],\"sequentialminus\":[[0.0,\"#0d0887\"],[0.1111111111111111,\"#46039f\"],[0.2222222222222222,\"#7201a8\"],[0.3333333333333333,\"#9c179e\"],[0.4444444444444444,\"#bd3786\"],[0.5555555555555556,\"#d8576b\"],[0.6666666666666666,\"#ed7953\"],[0.7777777777777778,\"#fb9f3a\"],[0.8888888888888888,\"#fdca26\"],[1.0,\"#f0f921\"]],\"diverging\":[[0,\"#8e0152\"],[0.1,\"#c51b7d\"],[0.2,\"#de77ae\"],[0.3,\"#f1b6da\"],[0.4,\"#fde0ef\"],[0.5,\"#f7f7f7\"],[0.6,\"#e6f5d0\"],[0.7,\"#b8e186\"],[0.8,\"#7fbc41\"],[0.9,\"#4d9221\"],[1,\"#276419\"]]},\"xaxis\":{\"gridcolor\":\"white\",\"linecolor\":\"white\",\"ticks\":\"\",\"title\":{\"standoff\":15},\"zerolinecolor\":\"white\",\"automargin\":true,\"zerolinewidth\":2},\"yaxis\":{\"gridcolor\":\"white\",\"linecolor\":\"white\",\"ticks\":\"\",\"title\":{\"standoff\":15},\"zerolinecolor\":\"white\",\"automargin\":true,\"zerolinewidth\":2},\"scene\":{\"xaxis\":{\"backgroundcolor\":\"#E5ECF6\",\"gridcolor\":\"white\",\"linecolor\":\"white\",\"showbackground\":true,\"ticks\":\"\",\"zerolinecolor\":\"white\",\"gridwidth\":2},\"yaxis\":{\"backgroundcolor\":\"#E5ECF6\",\"gridcolor\":\"white\",\"linecolor\":\"white\",\"showbackground\":true,\"ticks\":\"\",\"zerolinecolor\":\"white\",\"gridwidth\":2},\"zaxis\":{\"backgroundcolor\":\"#E5ECF6\",\"gridcolor\":\"white\",\"linecolor\":\"white\",\"showbackground\":true,\"ticks\":\"\",\"zerolinecolor\":\"white\",\"gridwidth\":2}},\"shapedefaults\":{\"line\":{\"color\":\"#2a3f5f\"}},\"annotationdefaults\":{\"arrowcolor\":\"#2a3f5f\",\"arrowhead\":0,\"arrowwidth\":1},\"geo\":{\"bgcolor\":\"white\",\"landcolor\":\"#E5ECF6\",\"subunitcolor\":\"white\",\"showland\":true,\"showlakes\":true,\"lakecolor\":\"white\"},\"title\":{\"x\":0.05},\"mapbox\":{\"style\":\"light\"}}},\"scene\":{\"domain\":{\"x\":[0.0,1.0],\"y\":[0.0,1.0]},\"xaxis\":{\"title\":{\"text\":\"col1\"}},\"yaxis\":{\"title\":{\"text\":\"col2\"}},\"zaxis\":{\"title\":{\"text\":\"col3\"}}},\"coloraxis\":{\"colorbar\":{\"title\":{\"text\":\"label\"}},\"colorscale\":[[0.0,\"#0d0887\"],[0.1111111111111111,\"#46039f\"],[0.2222222222222222,\"#7201a8\"],[0.3333333333333333,\"#9c179e\"],[0.4444444444444444,\"#bd3786\"],[0.5555555555555556,\"#d8576b\"],[0.6666666666666666,\"#ed7953\"],[0.7777777777777778,\"#fb9f3a\"],[0.8888888888888888,\"#fdca26\"],[1.0,\"#f0f921\"]]},\"legend\":{\"tracegroupgap\":0},\"margin\":{\"t\":60}},                        {\"responsive\": true}                    ).then(function(){\n",
              "                            \n",
              "var gd = document.getElementById('5d5cc223-9aae-4b84-ae14-52da7e22ee1c');\n",
              "var x = new MutationObserver(function (mutations, observer) {{\n",
              "        var display = window.getComputedStyle(gd).display;\n",
              "        if (!display || display === 'none') {{\n",
              "            console.log([gd, 'removed!']);\n",
              "            Plotly.purge(gd);\n",
              "            observer.disconnect();\n",
              "        }}\n",
              "}});\n",
              "\n",
              "// Listen for the removal of the full notebook cells\n",
              "var notebookContainer = gd.closest('#notebook-container');\n",
              "if (notebookContainer) {{\n",
              "    x.observe(notebookContainer, {childList: true});\n",
              "}}\n",
              "\n",
              "// Listen for the clearing of the current output cell\n",
              "var outputEl = gd.closest('.output');\n",
              "if (outputEl) {{\n",
              "    x.observe(outputEl, {childList: true});\n",
              "}}\n",
              "\n",
              "                        })                };                            </script>        </div>\n",
              "</body>\n",
              "</html>"
            ]
          },
          "metadata": {}
        }
      ]
    }
  ]
}